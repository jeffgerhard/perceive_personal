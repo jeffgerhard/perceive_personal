{
 "cells": [
  {
   "cell_type": "markdown",
   "metadata": {
    "collapsed": true
   },
   "source": [
    "# Clustering Full Disclosure data with igraph\n",
    "\n",
    "Igraph provides a number of algorithms for clustering graphs. They are described in a [stackoverflow discussion](http://stackoverflow.com/a/9478989).\n",
    "\n",
    "This preliminary attempt at clustering analysis uses the 2007 Full Disclosure graph."
   ]
  },
  {
   "cell_type": "code",
   "execution_count": 7,
   "metadata": {
    "collapsed": false
   },
   "outputs": [
    {
     "name": "stdout",
     "output_type": "stream",
     "text": [
      "total vertices: 5562\n",
      "total edges: 6489\n"
     ]
    }
   ],
   "source": [
    "from igraph import *\n",
    "\n",
    "g = Graph.Read_GraphML('2007.graphml')\n",
    "print('total vertices:', len(g.vs))\n",
    "print('total edges:', len(g.es))"
   ]
  },
  {
   "cell_type": "code",
   "execution_count": 9,
   "metadata": {
    "collapsed": false
   },
   "outputs": [
    {
     "name": "stderr",
     "output_type": "stream",
     "text": [
      "C:\\Anaconda3\\lib\\site-packages\\igraph\\__init__.py:1072: RuntimeWarning: This method was developed for undirected graphs at src\\community.c:1565\n",
      "  membership, _, q = GraphBase.community_leading_eigenvector(self, clusters, **kwds)\n"
     ]
    }
   ],
   "source": [
    "from igraph import *\n",
    "\n",
    "g = Graph.Read_GraphML('2007.graphml')\n",
    "com = g.community_leading_eigenvector(weights='weight', clusters=3)\n"
   ]
  },
  {
   "cell_type": "markdown",
   "metadata": {},
   "source": [
    "Some of the community measures do not support directed graphs, as seen in the warning message above, but the direction can be removed to compare the results of igraph's community funtions."
   ]
  },
  {
   "cell_type": "code",
   "execution_count": 37,
   "metadata": {
    "collapsed": false
   },
   "outputs": [
    {
     "name": "stdout",
     "output_type": "stream",
     "text": [
      "clustering attempt, leading eigenvector:\n",
      "Clustering with 5562 elements and 460 clusters\n",
      "\n",
      "clustering attempt, fastgreedy:\n",
      "Dendrogram, 5562 elements, 5102 merges\n",
      "\n",
      "clustering attempt, walktrap:\n",
      "Dendrogram, 5562 elements, 5102 merges\n",
      "\n",
      "clustering attempt, infomap:\n",
      "Clustering with 5562 elements and 791 clusters\n",
      "\n",
      "clustering attempt, multilevel:\n",
      "Clustering with 5562 elements and 489 clusters\n"
     ]
    }
   ],
   "source": [
    "from igraph import *\n",
    "\n",
    "g = Graph.Read_GraphML('2007.graphml')\n",
    "g.to_undirected() # eliminate the directionality\n",
    "\n",
    "com = g.community_leading_eigenvector(clusters=3)\n",
    "print('clustering attempt, leading eigenvector:')\n",
    "summary(com)\n",
    "\n",
    "com = g.community_fastgreedy()\n",
    "print('\\nclustering attempt, fastgreedy:')\n",
    "summary(com)\n",
    "\n",
    "com = g.community_walktrap(steps=4)\n",
    "print('\\nclustering attempt, walktrap:')\n",
    "summary(com)\n",
    "\n",
    "com = g.community_infomap()\n",
    "print('\\nclustering attempt, infomap:')\n",
    "summary(com)\n",
    "\n",
    "com = g.community_multilevel()\n",
    "print('\\nclustering attempt, multilevel:')\n",
    "summary(com)"
   ]
  },
  {
   "cell_type": "markdown",
   "metadata": {},
   "source": [
    "A more detailed look at the eigenvector clusters follows in two parts. First, a listing of the overall cluster contents:"
   ]
  },
  {
   "cell_type": "code",
   "execution_count": 22,
   "metadata": {
    "collapsed": false
   },
   "outputs": [
    {
     "name": "stdout",
     "output_type": "stream",
     "text": [
      "463 clusters.\n",
      "maximum size: 1666\n",
      "minimum size: 2\n",
      "\n",
      "Summary of first 20 clusters:\n",
      "[0] has size of 2. Vertices: [0, 1570] \n",
      "[1] has size of 1666. Vertices: [1, 5, 11, 13, 23] (and 1661 more)\n",
      "[2] has size of 14. Vertices: [2, 1572, 1740, 1915, 2078] (and 9 more)\n",
      "[3] has size of 3. Vertices: [10, 1577, 1867] \n",
      "[4] has size of 2. Vertices: [22, 1583] \n",
      "[5] has size of 2. Vertices: [24, 1585] \n",
      "[6] has size of 256. Vertices: [25, 751, 1586, 1591, 1661] (and 251 more)\n",
      "[7] has size of 2. Vertices: [26, 1587] \n",
      "[8] has size of 6. Vertices: [27, 1588, 1618, 2161, 2344] (and 1 more)\n",
      "[9] has size of 2. Vertices: [30, 1592] \n",
      "[10] has size of 4. Vertices: [32, 1596, 2277, 4620] \n",
      "[11] has size of 2. Vertices: [53, 1610] \n",
      "[12] has size of 6. Vertices: [56, 1613, 2976, 4165, 4636] (and 1 more)\n",
      "[13] has size of 3. Vertices: [57, 1615, 1714] \n",
      "[14] has size of 4. Vertices: [58, 1616, 1624, 2210] \n",
      "[15] has size of 2. Vertices: [60, 1621] \n",
      "[16] has size of 3. Vertices: [61, 63, 1622] \n",
      "[17] has size of 4. Vertices: [69, 1635, 1636, 1897] \n",
      "[18] has size of 2. Vertices: [74, 1641] \n"
     ]
    }
   ],
   "source": [
    "from igraph import *\n",
    "\n",
    "g = Graph.Read_GraphML('2007.graphml')\n",
    "g.to_undirected() # eliminate the directionality\n",
    "\n",
    "com = g.community_leading_eigenvector()\n",
    "print(len(com), 'clusters.')\n",
    "print('maximum size:', len(max(com, key=len)))\n",
    "print('minimum size:', len(min(com, key=len)))\n",
    "\n",
    "print('\\nSummary of first 20 clusters:')\n",
    "for i in range(19):\n",
    "    etc = ''\n",
    "    if len(com[i]) > 5:\n",
    "        etc += '(and ' + str(len(com[i]) - 5) + ' more)'\n",
    "    print('[{}] has size of {}. Vertices: {} {}'.format(i, len(com[i]), com[i][0:5], etc))\n"
   ]
  },
  {
   "cell_type": "markdown",
   "metadata": {},
   "source": [
    "Second, a report of the first 10 communities' node types and labels:"
   ]
  },
  {
   "cell_type": "code",
   "execution_count": 27,
   "metadata": {
    "collapsed": false
   },
   "outputs": [
    {
     "name": "stdout",
     "output_type": "stream",
     "text": [
      "COMMUNITY 0   ( total size: 2 )\n",
      "\t author :\t andur matrix <andurmatrix () gmail com>\n",
      "\t document :\t Re: [OOT] Thesis for master degree\n",
      "\n",
      "COMMUNITY 1   ( total size: 1666 )\n",
      "\t author :\t Denzity <denzity () gmail com>\n",
      "\t author :\t Javor Ninov <drfrancky () securax org>\n",
      "\t author :\t dfklsddshd <dfklsddshd () nerdshack com>\n",
      "\t author :\t Blue Boar <BlueBoar () thievco com>\n",
      "\t author :\t Steven McGrath <steven.mcgrath () chigeek com>\n",
      "\t author :\t rPath Update Announcements <announce-noreply () rpath com>\n",
      "\t author :\t Matias Soler <gnuler () gmail com>\n",
      "\t author :\t Kees Cook <kees () ubuntu com>\n",
      "\t author :\t Scott <geekboy () angrykeyboarder com>\n",
      "\t author :\t sven.vetsch () disenchant ch\n",
      "\t... TRUNCATED LISTING\n",
      "\n",
      "COMMUNITY 2   ( total size: 14 )\n",
      "\t author :\t Matousec - Transparent security Research <research () matousec com>\n",
      "\t document :\t Kerio Fake 'iphlpapi' DLL injection Vulnerability\n",
      "\t document :\t Outpost Bypassing Self-Protection using file\tlinks Vulnerability\n",
      "\t document :\t Comodo Multiple insufficient argument validation of hooked SSDT function Vulnerability\n",
      "\t document :\t Comodo DLL injection via weak hash function\texploitation Vulnerability\n",
      "\t document :\t Comodo Bypassing settings protection using magic\tpipe Vulnerability\n",
      "\t document :\t Norton Insufficient validation of 'SymTDI' driver\tinput buffer\n",
      "\t document :\t Norton Multiple insufficient argument validation of hooked SSDT function Vulnerability\n",
      "\t document :\t ZoneAlarm Multiple insufficient argument validation of hooked SSDT function Vulnerability\n",
      "\t document :\t ZoneAlarm Insufficient validation of 'vsdatant' driver input buffer Vulnerability\n",
      "\t... TRUNCATED LISTING\n",
      "\n",
      "COMMUNITY 3   ( total size: 3 )\n",
      "\t author :\t Sebastian Wolfgarten <sebastian.wolfgarten () gmx net>\n",
      "\t document :\t Security contact at TrendMicro\n",
      "\t document :\t Buffer overflow in VSAPI library of Trend Micro\tVirusWall 3.81 for Linux\n",
      "\n",
      "COMMUNITY 4   ( total size: 2 )\n",
      "\t author :\t xploitzz <xploitzz () gmail com>\n",
      "\t document :\t Vista Reduced Function mode\ttriggered&In-Reply-To=AA4FD01470854D4F91BD71B19138DD41@control3\n",
      "\n",
      "COMMUNITY 5   ( total size: 2 )\n",
      "\t author :\t Tal Argoni <moskito () 012 net il>\n",
      "\t document :\t Inforamtion Discloser Vulnerabilities in\t\"phpMyAdmin\"\n",
      "\n",
      "COMMUNITY 6   ( total size: 256 )\n",
      "\t author :\t security () mandriva com\n",
      "\t author :\t Jeroen Massar <jeroen () unfix org>\n",
      "\t document :\t [ MDKSA-2007:001 ] - Update libmodplug packages\tfix buffer overflow vulnerabilities\n",
      "\t document :\t [ MDKSA-2007:002 ] - Updated kernel packages fix\tmultiple vulnerabilities and bugs\n",
      "\t document :\t [ MDKSA-2007:003 ] - Updated avahi packages fix\tDoS vulnerability\n",
      "\t document :\t [ MDKSA-2007:004 ] - Updated geoip packages fix\tgeoipupdate vulnerability\n",
      "\t document :\t [ MDKSA-2007-005 ] - Updated xorg-x11/XFree86\tpackages fix integer overflow vulnerabilities\n",
      "\t document :\t [ MDKSA-2007:006 ] - Updated OpenOffice.org\tpackages fix WMF vulnerability\n",
      "\t document :\t [ MDKSA-2007:007 ] - Updated nvidia driver\tpackages fix vulnerability\n",
      "\t document :\t [ MDKSA-2007:008 ] - Updated kerberos packages\tfix vulnerability\n",
      "\t... TRUNCATED LISTING\n",
      "\n",
      "COMMUNITY 7   ( total size: 2 )\n",
      "\t author :\t <sftsi () hushmail com>\n",
      "\t document :\t It's all in the details, sapheal\n",
      "\n",
      "COMMUNITY 8   ( total size: 6 )\n",
      "\t author :\t Vic Vandal <vvandal () well com>\n",
      "\t document :\t CarolinaCon 2007 - Call for Speakers/Papers\n",
      "\t document :\t Re: Call For Participants For A Research Study Of\tHacker Culture\n",
      "\t document :\t CarolinaCon 2007 Announcement/Press Release\n",
      "\t document :\t CarolinaCon presentation drafts\n",
      "\t document :\t CarolinaCon 2008 - Call For Papers/Speakers\n",
      "\n",
      "COMMUNITY 9   ( total size: 2 )\n",
      "\t author :\t JM <phoenix.diablo () googlemail com>\n",
      "\t document :\t Re: [Full-disclosure]\tGoogle�s blacklisted url database (phishing url database)\n",
      "\n"
     ]
    }
   ],
   "source": [
    "from igraph import *\n",
    "\n",
    "g = Graph.Read_GraphML('2007.graphml')\n",
    "g.to_undirected() # eliminate the directionality\n",
    "\n",
    "com = g.community_leading_eigenvector()\n",
    "\n",
    "for i in range(10):\n",
    "    print('COMMUNITY', i, '  ( total size:', len(com[i]), ')')\n",
    "    for _ in com[i][0:10]:\n",
    "        print('\\t', g.vs[_]['nodeType'], ':\\t', g.vs[_]['label'])\n",
    "    if len(com[i]) > 10:\n",
    "        print('\\t... TRUNCATED LISTING')\n",
    "    print()"
   ]
  },
  {
   "cell_type": "markdown",
   "metadata": {},
   "source": [
    "# Betweenness analysis\n",
    "\n",
    "This preliminary attempt at betweenness analysis uses the 2007 Full Disclosure graph.\n",
    "\n",
    "Igraph betweenness measures, like the clustering algorithms, require undirected graphs. Betweenness is returned as a simple list of values."
   ]
  },
  {
   "cell_type": "code",
   "execution_count": 28,
   "metadata": {
    "collapsed": false
   },
   "outputs": [
    {
     "name": "stdout",
     "output_type": "stream",
     "text": [
      "Betweenness of first 50 vertices:  [0.0, 0.0, 78.0, 22394.619093596124, 256552.06433626046, 0.0, 4111.174330598513, 278718.86507494753, 132012.86174402796, 0.0, 1.0, 0.0, 23914.980716355964, 16850.668530499253, 18833.055489523493, 0.0, 22998.24452723478, 59213.59827074634, 7867.956449538302, 34203.45778196439, 691.1399438298088, 59.10843906348034, 0.0, 31320.0, 0.0, 32384.0, 0.0, 10.0, 501416.0, 10505.465532639366, 0.0, 0.0, 3.0, 564647.0, 0.0, 18505.484243673498, 75.25965308611259, 473026.909812853, 20757.883757101783, 7364.715831288807, 0.0, 0.0, 257016.66923210927, 12399.959993123544, 1725688.150070586, 6821.123974440932, 83464.74602294361, 138580.0, 555396.9379294378, 23289.655271616073]\n"
     ]
    }
   ],
   "source": [
    "from igraph import *\n",
    "\n",
    "g = Graph.Read_GraphML('2007.graphml')\n",
    "g.to_undirected()\n",
    "print('Betweenness of first 50 vertices: ', g.betweenness()[0:50])"
   ]
  },
  {
   "cell_type": "markdown",
   "metadata": {},
   "source": [
    "A basic statistical summary can be provided by python's statistics model, and the betweenness results can be compared to the graph vertices to create more detailed overviews:"
   ]
  },
  {
   "cell_type": "code",
   "execution_count": 31,
   "metadata": {
    "collapsed": false
   },
   "outputs": [
    {
     "name": "stdout",
     "output_type": "stream",
     "text": [
      "Betweenness summary:\n",
      "min: 0.0\n",
      "max: 1725688.150070586\n",
      "mode: 0.0\n",
      "mean: 5845.322186263935\n",
      "\n",
      "\n",
      "Sample data for first 10 vertices:\n",
      "vertex 0 \n",
      "  betweenness: 0.0 \n",
      "  author :  andur matrix <andurmatrix () gmail com>\n",
      "vertex 1 \n",
      "  betweenness: 0.0 \n",
      "  author :  Denzity <denzity () gmail com>\n",
      "vertex 2 \n",
      "  betweenness: 78.0 \n",
      "  author :  Matousec - Transparent security Research <research () matousec com>\n",
      "vertex 3 \n",
      "  betweenness: 22394.619093596124 \n",
      "  author :  Geo. <geoincidents () nls net>\n",
      "vertex 4 \n",
      "  betweenness: 256552.06433626046 \n",
      "  author :  coderman <coderman () gmail com>\n",
      "vertex 5 \n",
      "  betweenness: 0.0 \n",
      "  author :  Javor Ninov <drfrancky () securax org>\n",
      "vertex 6 \n",
      "  betweenness: 4111.174330598513 \n",
      "  author :  php0t <php0t () zorro hu>\n",
      "vertex 7 \n",
      "  betweenness: 278718.86507494753 \n",
      "  author :  Simon Smith <simon () snosoft com>\n",
      "vertex 8 \n",
      "  betweenness: 132012.86174402796 \n",
      "  author :  Juha-Matti Laurio <juha-matti.laurio () netti fi>\n",
      "vertex 9 \n",
      "  betweenness: 0.0 \n",
      "  author :  Poof <poof () fansubber com>\n"
     ]
    }
   ],
   "source": [
    "from igraph import *\n",
    "import statistics\n",
    "\n",
    "g = Graph.Read_GraphML('2007.graphml')\n",
    "g.to_undirected()\n",
    "betw = g.betweenness()\n",
    "print('Betweenness summary:')\n",
    "print('min:', min(betw))\n",
    "print('max:', max(betw))\n",
    "print('mode:', statistics.mode(betw))\n",
    "print('mean:', statistics.mean(betw))\n",
    "\n",
    "print('\\n\\nSample data for first 10 vertices:')\n",
    "for i in range(10):\n",
    "    print('vertex', i, '\\n  betweenness:', betw[i], '\\n ', g.vs[i]['nodeType'], ': ', g.vs[i]['label'])\n"
   ]
  },
  {
   "cell_type": "markdown",
   "metadata": {},
   "source": [
    "Manual analysis of the vertices with highest betweenness will be useful for developing hypotheses about the graph."
   ]
  },
  {
   "cell_type": "code",
   "execution_count": 30,
   "metadata": {
    "collapsed": false
   },
   "outputs": [
    {
     "name": "stdout",
     "output_type": "stream",
     "text": [
      "Highest betweenness vertex:\n",
      "vertex 44 \n",
      "  betweenness: 1725688.150070586 \n",
      "  author :  Valdis.Kletnieks () vt edu\n"
     ]
    }
   ],
   "source": [
    "from igraph import *\n",
    "import numpy as np\n",
    "\n",
    "g = Graph.Read_GraphML('2007.graphml')\n",
    "g.to_undirected()\n",
    "betw = g.betweenness()\n",
    "\n",
    "i = np.argmax(betw)\n",
    "\n",
    "print('Highest betweenness vertex:')\n",
    "print('vertex', i, '\\n  betweenness:', betw[i], '\\n ', g.vs[i]['nodeType'], ': ', g.vs[i]['label'])\n"
   ]
  }
 ],
 "metadata": {
  "kernelspec": {
   "display_name": "Python 3",
   "language": "python",
   "name": "python3"
  },
  "language_info": {
   "codemirror_mode": {
    "name": "ipython",
    "version": 3
   },
   "file_extension": ".py",
   "mimetype": "text/x-python",
   "name": "python",
   "nbconvert_exporter": "python",
   "pygments_lexer": "ipython3",
   "version": "3.5.2"
  }
 },
 "nbformat": 4,
 "nbformat_minor": 2
}
